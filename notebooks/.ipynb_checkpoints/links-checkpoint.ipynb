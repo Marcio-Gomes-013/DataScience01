{
 "cells": [
  {
   "cell_type": "code",
   "execution_count": 1,
   "id": "149f60bd",
   "metadata": {},
   "outputs": [],
   "source": [
    "import urllib\n",
    "import requests\n",
    "from bs4 import BeautifulSoup\n",
    "from pathlib import Path"
   ]
  },
  {
   "cell_type": "code",
   "execution_count": 3,
   "id": "b0590c68",
   "metadata": {},
   "outputs": [],
   "source": []
  },
  {
   "cell_type": "code",
   "execution_count": 7,
   "id": "0e23f733",
   "metadata": {},
   "outputs": [],
   "source": [
    "html = urllib.request.urlopen(\"https://www.gov.br/inep/pt-br/acesso-a-informacao/dados-abertos/microdados/censo-escolar\").read()"
   ]
  },
  {
   "cell_type": "code",
   "execution_count": 11,
   "id": "e04c73b8",
   "metadata": {},
   "outputs": [],
   "source": [
    "soup = BeautifulSoup(html, features=\"html.parser\")"
   ]
  },
  {
   "cell_type": "code",
   "execution_count": 12,
   "id": "16ebfb52",
   "metadata": {},
   "outputs": [],
   "source": [
    "tags = soup.find_all(\"a\")"
   ]
  },
  {
   "cell_type": "code",
   "execution_count": 13,
   "id": "21a15fe1",
   "metadata": {},
   "outputs": [
    {
     "data": {
      "text/plain": [
       "792"
      ]
     },
     "execution_count": 13,
     "metadata": {},
     "output_type": "execute_result"
    }
   ],
   "source": [
    "len(tags)"
   ]
  },
  {
   "cell_type": "code",
   "execution_count": 19,
   "id": "3a2e85fc",
   "metadata": {},
   "outputs": [],
   "source": [
    "tags = soup.find_all(\"a\", {\"class\": \"external-link\"})"
   ]
  },
  {
   "cell_type": "code",
   "execution_count": 20,
   "id": "f57ba0b4",
   "metadata": {},
   "outputs": [
    {
     "data": {
      "text/plain": [
       "[<a class=\"external-link\" data-tippreview-enabled=\"false\" data-tippreview-image=\"\" data-tippreview-title=\"\" href=\"https://download.inep.gov.br/dados_abertos/microdados_censo_escolar_2020.zip\" target=\"_self\" title=\"\">Microdados do Censo Escolar da Educação Básica 2020 (Atualizado em 08/03/2021)<br/></a>,\n",
       " <a class=\"external-link\" data-tippreview-enabled=\"false\" data-tippreview-image=\"\" data-tippreview-title=\"\" href=\"https://download.inep.gov.br/microdados/microdados_educacao_basica_2019.zip\" target=\"_self\" title=\"\">Microdados do Censo Escolar da Educação Básica 2019 (Atualizado em 19/03/2020)</a>,\n",
       " <a class=\"external-link\" data-tippreview-enabled=\"false\" data-tippreview-image=\"\" data-tippreview-title=\"\" href=\"https://download.inep.gov.br/microdados/microdados_educacao_basica_2018.zip\" target=\"_self\" title=\"\">Microdados do Censo Escolar da Educação Básica 2018 (Atualizado em 14/02/2019)</a>,\n",
       " <a class=\"external-link\" data-tippreview-enabled=\"false\" data-tippreview-image=\"\" data-tippreview-title=\"\" href=\"https://download.inep.gov.br/microdados/micro_censo_escolar_2017.zip\" target=\"_self\" title=\"\">Microdados do Censo Escolar da Educação Básica 2017 (Atualizado em 02/02/2018)</a>,\n",
       " <a class=\"external-link\" data-tippreview-enabled=\"false\" data-tippreview-image=\"\" data-tippreview-title=\"\" href=\"https://download.inep.gov.br/microdados/micro_censo_escolar_2016.zip\" target=\"_self\" title=\"\">Microdados do Censo Escolar da Educação Básica 2016</a>,\n",
       " <a class=\"external-link\" data-tippreview-enabled=\"false\" data-tippreview-image=\"\" data-tippreview-title=\"\" href=\"https://download.inep.gov.br/microdados/micro_censo_escolar_2015.zip\" target=\"_self\" title=\"\">Microdados do Censo Escolar da Educação Básica 2015</a>,\n",
       " <a class=\"external-link\" data-tippreview-enabled=\"false\" data-tippreview-image=\"\" data-tippreview-title=\"\" href=\"https://download.inep.gov.br/microdados/micro_censo_escolar_2014.zip\" target=\"_self\" title=\"\">Microdados do Censo Escolar da Educação Básica 2014</a>,\n",
       " <a class=\"external-link\" data-tippreview-enabled=\"false\" data-tippreview-image=\"\" data-tippreview-title=\"\" href=\"https://download.inep.gov.br/microdados/micro_censo_escolar_2013.zip\" target=\"_self\" title=\"\">Microdados do Censo Escolar da Educação Básica 2013</a>,\n",
       " <a class=\"external-link\" data-tippreview-enabled=\"false\" data-tippreview-image=\"\" data-tippreview-title=\"\" href=\"https://download.inep.gov.br/microdados/micro_censo_escolar_2012.zip\" target=\"_self\" title=\"\">Microdados do Censo Escolar da Educação Básica 2012</a>,\n",
       " <a class=\"external-link\" data-tippreview-enabled=\"false\" data-tippreview-image=\"\" data-tippreview-title=\"\" href=\"https://download.inep.gov.br/microdados/micro_censo_escolar_2011.zip\" target=\"_self\" title=\"\">Microdados do Censo Escolar da Educação Básica 2011</a>,\n",
       " <a class=\"external-link\" data-tippreview-enabled=\"false\" data-tippreview-image=\"\" data-tippreview-title=\"\" href=\"https://download.inep.gov.br/microdados/micro_censo_escolar_2010.zip\" target=\"_self\" title=\"\">Microdados do Censo Escolar da Educação Básica 2010</a>,\n",
       " <a class=\"external-link\" data-tippreview-enabled=\"false\" data-tippreview-image=\"\" data-tippreview-title=\"\" href=\"https://download.inep.gov.br/microdados/micro_censo_escolar_2009.zip\" target=\"_self\" title=\"\">Microdados do Censo Escolar da Educação Básica 2009</a>,\n",
       " <a class=\"external-link\" data-tippreview-enabled=\"false\" data-tippreview-image=\"\" data-tippreview-title=\"\" href=\"https://download.inep.gov.br/microdados/micro_censo_escolar_2008.zip\" target=\"_self\" title=\"\">Microdados do Censo Escolar da Educação Básica 2008</a>,\n",
       " <a class=\"external-link\" data-tippreview-enabled=\"false\" data-tippreview-image=\"\" data-tippreview-title=\"\" href=\"https://download.inep.gov.br/microdados/micro_censo_escolar_2007.zip\" target=\"_self\" title=\"\">Microdados do Censo Escolar da Educação Básica 2007</a>,\n",
       " <a class=\"external-link\" data-tippreview-enabled=\"false\" data-tippreview-image=\"\" data-tippreview-title=\"\" href=\"https://download.inep.gov.br/microdados/microdados_educacao_basica_2006.zip\" target=\"_self\" title=\"\">Microdados do Censo Escolar da Educação Básica 2006</a>,\n",
       " <a class=\"external-link\" data-tippreview-enabled=\"false\" data-tippreview-image=\"\" data-tippreview-title=\"\" href=\"https://download.inep.gov.br/microdados/microdados_educacao_basica_2005.zip\" target=\"_self\" title=\"\">Microdados do Censo Escolar da Educação Básica 2005</a>,\n",
       " <a class=\"external-link\" data-tippreview-enabled=\"false\" data-tippreview-image=\"\" data-tippreview-title=\"\" href=\"https://download.inep.gov.br/microdados/microdados_educacao_basica_2004.zip\" target=\"_self\" title=\"\">Microdados do Censo Escolar da Educação Básica 2004</a>,\n",
       " <a class=\"external-link\" data-tippreview-enabled=\"false\" data-tippreview-image=\"\" data-tippreview-title=\"\" href=\"https://download.inep.gov.br/microdados/microdados_educacao_basica_2003.zip\" target=\"_self\" title=\"\">Microdados do Censo Escolar da Educação Básica 2003</a>,\n",
       " <a class=\"external-link\" data-tippreview-enabled=\"false\" data-tippreview-image=\"\" data-tippreview-title=\"\" href=\"https://download.inep.gov.br/microdados/microdados_educacao_basica_2002.zip\" target=\"_self\" title=\"\">Microdados do Censo Escolar da Educação Básica 2002</a>,\n",
       " <a class=\"external-link\" data-tippreview-enabled=\"false\" data-tippreview-image=\"\" data-tippreview-title=\"\" href=\"https://download.inep.gov.br/microdados/microdados_educacao_basica_2001.zip\" target=\"_self\" title=\"\">Microdados do Censo Escolar da Educação Básica 2001</a>,\n",
       " <a class=\"external-link\" data-tippreview-enabled=\"false\" data-tippreview-image=\"\" data-tippreview-title=\"\" href=\"https://download.inep.gov.br/microdados/microdados_educacao_basica_2000.zip\" target=\"_self\" title=\"\">Microdados do Censo Escolar da Educação Básica 2000</a>,\n",
       " <a class=\"external-link\" data-tippreview-enabled=\"false\" data-tippreview-image=\"\" data-tippreview-title=\"\" href=\"https://download.inep.gov.br/microdados/microdados_educacao_basica_1999.zip\" target=\"_self\" title=\"\">Microdados do Censo Escolar da Educação Básica 1999</a>,\n",
       " <a class=\"external-link\" data-tippreview-enabled=\"false\" data-tippreview-image=\"\" data-tippreview-title=\"\" href=\"https://download.inep.gov.br/microdados/microdados_educacao_basica_1998.zip\" target=\"_self\" title=\"\">Microdados do Censo Escolar da Educação Básica 1998</a>,\n",
       " <a class=\"external-link\" data-tippreview-enabled=\"false\" data-tippreview-image=\"\" data-tippreview-title=\"\" href=\"https://download.inep.gov.br/microdados/microdados_educacao_basica_1997.zip\" target=\"_self\" title=\"\">Microdados do Censo Escolar da Educação Básica 1997</a>,\n",
       " <a class=\"external-link\" data-tippreview-enabled=\"false\" data-tippreview-image=\"\" data-tippreview-title=\"\" href=\"https://download.inep.gov.br/microdados/microdados_educacao_basica_1996.zip\" target=\"_self\" title=\"\">Microdados do Censo Escolar da Educação Básica 1996</a>,\n",
       " <a class=\"external-link\" data-tippreview-enabled=\"false\" data-tippreview-image=\"\" data-tippreview-title=\"\" href=\"https://download.inep.gov.br/microdados/microdados_educacao_basica_1995.zip\" target=\"_self\" title=\"\">Microdados do Censo Escolar da Educação Básica 1995</a>]"
      ]
     },
     "execution_count": 20,
     "metadata": {},
     "output_type": "execute_result"
    }
   ],
   "source": [
    "tags"
   ]
  },
  {
   "cell_type": "code",
   "execution_count": 22,
   "id": "97f507bb",
   "metadata": {},
   "outputs": [
    {
     "data": {
      "text/plain": [
       "<a class=\"external-link\" data-tippreview-enabled=\"false\" data-tippreview-image=\"\" data-tippreview-title=\"\" href=\"https://download.inep.gov.br/dados_abertos/microdados_censo_escolar_2020.zip\" target=\"_self\" title=\"\">Microdados do Censo Escolar da Educação Básica 2020 (Atualizado em 08/03/2021)<br/></a>"
      ]
     },
     "execution_count": 22,
     "metadata": {},
     "output_type": "execute_result"
    }
   ],
   "source": [
    "tags[0]"
   ]
  },
  {
   "cell_type": "code",
   "execution_count": 23,
   "id": "8861dfbc",
   "metadata": {},
   "outputs": [],
   "source": [
    "tag = tags[0]"
   ]
  },
  {
   "cell_type": "code",
   "execution_count": 24,
   "id": "33373078",
   "metadata": {},
   "outputs": [
    {
     "data": {
      "text/plain": [
       "'https://download.inep.gov.br/dados_abertos/microdados_censo_escolar_2020.zip'"
      ]
     },
     "execution_count": 24,
     "metadata": {},
     "output_type": "execute_result"
    }
   ],
   "source": [
    "tag[\"href\"]"
   ]
  },
  {
   "cell_type": "code",
   "execution_count": 29,
   "id": "765c8d84",
   "metadata": {},
   "outputs": [],
   "source": [
    "links = {tag[\"href\"].split(\"_\")[-1]: tag[\"href\"] for tag in soup.find_all(\"a\", {\"class\": \"external-link\"})}"
   ]
  },
  {
   "cell_type": "code",
   "execution_count": null,
   "id": "e76376b1",
   "metadata": {},
   "outputs": [],
   "source": []
  }
 ],
 "metadata": {
  "kernelspec": {
   "display_name": "Python 3",
   "language": "python",
   "name": "python3"
  },
  "language_info": {
   "codemirror_mode": {
    "name": "ipython",
    "version": 3
   },
   "file_extension": ".py",
   "mimetype": "text/x-python",
   "name": "python",
   "nbconvert_exporter": "python",
   "pygments_lexer": "ipython3",
   "version": "3.8.8"
  }
 },
 "nbformat": 4,
 "nbformat_minor": 5
}
