{
 "cells": [
  {
   "cell_type": "code",
   "execution_count": 1,
   "id": "2440f9dd",
   "metadata": {},
   "outputs": [],
   "source": [
    "import urllib\n",
    "import requests\n",
    "from bs4 import BeautifulSoup\n",
    "from pathlib import Path"
   ]
  },
  {
   "cell_type": "code",
   "execution_count": 3,
   "id": "0cc2d74c",
   "metadata": {},
   "outputs": [],
   "source": [
    "def obtem_dados_censo:\n",
    "    url: str = (\"https://www.gov.br/inep/pt-br/acesso-a-informacao/dados-abertos/microdados/censo-escolar\") -> Path:\n",
    "            \"\"\"\n",
    "            Realiza o download dos dados do censo escolar\n",
    "            \n",
    "            param url: endereço do site do INEP com dados do censo\n",
    "            reutrn: caminho para osdados de saida\n",
    "            \"\"\"\n",
    "            html = urllib.request.urlopen(url).read()\n",
    "            soup = BeautifulSoup(html, features=\"html.parser\")\n",
    "            \n",
    "            links = {tag[\"href\"].split(\"_\")[-1]: tag[\"href\"] for tag in soup.find_all(\"a\", {\"class\": \"external-link\"})}\n",
    "            \n",
    "            caminho_saida = Path(\"../dados/censo_escolar\")\n",
    "            caminho_saida.mkdir(parents=True, exist_ok=True)\n",
    "            \n",
    "            for dados in links:\n",
    "                r = requests.get(links[dados], stream=True)\n",
    "                with open(caminho_saida / dados, \"wb\") as arq:\n",
    "                    arq.write(r.content)"
   ]
  },
  {
   "cell_type": "code",
   "execution_count": 7,
   "id": "b2c39af3",
   "metadata": {},
   "outputs": [],
   "source": [
    "html = urllib.request.urlopen(\"https://www.gov.br/inep/pt-br/acesso-a-informacao/dados-abertos/microdados/censo-escolar\").read()"
   ]
  },
  {
   "cell_type": "code",
   "execution_count": 11,
   "id": "867b1e5a",
   "metadata": {},
   "outputs": [],
   "source": [
    "soup = BeautifulSoup(html, features=\"html.parser\")"
   ]
  },
  {
   "cell_type": "code",
   "execution_count": 12,
   "id": "6cdd5e74",
   "metadata": {},
   "outputs": [],
   "source": [
    "tags = soup.find_all(\"a\")"
   ]
  },
  {
   "cell_type": "code",
   "execution_count": 13,
   "id": "3ba8a00f",
   "metadata": {},
   "outputs": [
    {
     "data": {
      "text/plain": [
       "792"
      ]
     },
     "execution_count": 13,
     "metadata": {},
     "output_type": "execute_result"
    }
   ],
   "source": [
    "len(tags)"
   ]
  },
  {
   "cell_type": "code",
   "execution_count": 19,
   "id": "fa64d876",
   "metadata": {},
   "outputs": [],
   "source": [
    "tags = soup.find_all(\"a\", {\"class\": \"external-link\"})"
   ]
  },
  {
   "cell_type": "code",
   "execution_count": 20,
   "id": "a2244abc",
   "metadata": {},
   "outputs": [
    {
     "data": {
      "text/plain": [
       "[<a class=\"external-link\" data-tippreview-enabled=\"false\" data-tippreview-image=\"\" data-tippreview-title=\"\" href=\"https://download.inep.gov.br/dados_abertos/microdados_censo_escolar_2020.zip\" target=\"_self\" title=\"\">Microdados do Censo Escolar da Educação Básica 2020 (Atualizado em 08/03/2021)<br/></a>,\n",
       " <a class=\"external-link\" data-tippreview-enabled=\"false\" data-tippreview-image=\"\" data-tippreview-title=\"\" href=\"https://download.inep.gov.br/microdados/microdados_educacao_basica_2019.zip\" target=\"_self\" title=\"\">Microdados do Censo Escolar da Educação Básica 2019 (Atualizado em 19/03/2020)</a>,\n",
       " <a class=\"external-link\" data-tippreview-enabled=\"false\" data-tippreview-image=\"\" data-tippreview-title=\"\" href=\"https://download.inep.gov.br/microdados/microdados_educacao_basica_2018.zip\" target=\"_self\" title=\"\">Microdados do Censo Escolar da Educação Básica 2018 (Atualizado em 14/02/2019)</a>,\n",
       " <a class=\"external-link\" data-tippreview-enabled=\"false\" data-tippreview-image=\"\" data-tippreview-title=\"\" href=\"https://download.inep.gov.br/microdados/micro_censo_escolar_2017.zip\" target=\"_self\" title=\"\">Microdados do Censo Escolar da Educação Básica 2017 (Atualizado em 02/02/2018)</a>,\n",
       " <a class=\"external-link\" data-tippreview-enabled=\"false\" data-tippreview-image=\"\" data-tippreview-title=\"\" href=\"https://download.inep.gov.br/microdados/micro_censo_escolar_2016.zip\" target=\"_self\" title=\"\">Microdados do Censo Escolar da Educação Básica 2016</a>,\n",
       " <a class=\"external-link\" data-tippreview-enabled=\"false\" data-tippreview-image=\"\" data-tippreview-title=\"\" href=\"https://download.inep.gov.br/microdados/micro_censo_escolar_2015.zip\" target=\"_self\" title=\"\">Microdados do Censo Escolar da Educação Básica 2015</a>,\n",
       " <a class=\"external-link\" data-tippreview-enabled=\"false\" data-tippreview-image=\"\" data-tippreview-title=\"\" href=\"https://download.inep.gov.br/microdados/micro_censo_escolar_2014.zip\" target=\"_self\" title=\"\">Microdados do Censo Escolar da Educação Básica 2014</a>,\n",
       " <a class=\"external-link\" data-tippreview-enabled=\"false\" data-tippreview-image=\"\" data-tippreview-title=\"\" href=\"https://download.inep.gov.br/microdados/micro_censo_escolar_2013.zip\" target=\"_self\" title=\"\">Microdados do Censo Escolar da Educação Básica 2013</a>,\n",
       " <a class=\"external-link\" data-tippreview-enabled=\"false\" data-tippreview-image=\"\" data-tippreview-title=\"\" href=\"https://download.inep.gov.br/microdados/micro_censo_escolar_2012.zip\" target=\"_self\" title=\"\">Microdados do Censo Escolar da Educação Básica 2012</a>,\n",
       " <a class=\"external-link\" data-tippreview-enabled=\"false\" data-tippreview-image=\"\" data-tippreview-title=\"\" href=\"https://download.inep.gov.br/microdados/micro_censo_escolar_2011.zip\" target=\"_self\" title=\"\">Microdados do Censo Escolar da Educação Básica 2011</a>,\n",
       " <a class=\"external-link\" data-tippreview-enabled=\"false\" data-tippreview-image=\"\" data-tippreview-title=\"\" href=\"https://download.inep.gov.br/microdados/micro_censo_escolar_2010.zip\" target=\"_self\" title=\"\">Microdados do Censo Escolar da Educação Básica 2010</a>,\n",
       " <a class=\"external-link\" data-tippreview-enabled=\"false\" data-tippreview-image=\"\" data-tippreview-title=\"\" href=\"https://download.inep.gov.br/microdados/micro_censo_escolar_2009.zip\" target=\"_self\" title=\"\">Microdados do Censo Escolar da Educação Básica 2009</a>,\n",
       " <a class=\"external-link\" data-tippreview-enabled=\"false\" data-tippreview-image=\"\" data-tippreview-title=\"\" href=\"https://download.inep.gov.br/microdados/micro_censo_escolar_2008.zip\" target=\"_self\" title=\"\">Microdados do Censo Escolar da Educação Básica 2008</a>,\n",
       " <a class=\"external-link\" data-tippreview-enabled=\"false\" data-tippreview-image=\"\" data-tippreview-title=\"\" href=\"https://download.inep.gov.br/microdados/micro_censo_escolar_2007.zip\" target=\"_self\" title=\"\">Microdados do Censo Escolar da Educação Básica 2007</a>,\n",
       " <a class=\"external-link\" data-tippreview-enabled=\"false\" data-tippreview-image=\"\" data-tippreview-title=\"\" href=\"https://download.inep.gov.br/microdados/microdados_educacao_basica_2006.zip\" target=\"_self\" title=\"\">Microdados do Censo Escolar da Educação Básica 2006</a>,\n",
       " <a class=\"external-link\" data-tippreview-enabled=\"false\" data-tippreview-image=\"\" data-tippreview-title=\"\" href=\"https://download.inep.gov.br/microdados/microdados_educacao_basica_2005.zip\" target=\"_self\" title=\"\">Microdados do Censo Escolar da Educação Básica 2005</a>,\n",
       " <a class=\"external-link\" data-tippreview-enabled=\"false\" data-tippreview-image=\"\" data-tippreview-title=\"\" href=\"https://download.inep.gov.br/microdados/microdados_educacao_basica_2004.zip\" target=\"_self\" title=\"\">Microdados do Censo Escolar da Educação Básica 2004</a>,\n",
       " <a class=\"external-link\" data-tippreview-enabled=\"false\" data-tippreview-image=\"\" data-tippreview-title=\"\" href=\"https://download.inep.gov.br/microdados/microdados_educacao_basica_2003.zip\" target=\"_self\" title=\"\">Microdados do Censo Escolar da Educação Básica 2003</a>,\n",
       " <a class=\"external-link\" data-tippreview-enabled=\"false\" data-tippreview-image=\"\" data-tippreview-title=\"\" href=\"https://download.inep.gov.br/microdados/microdados_educacao_basica_2002.zip\" target=\"_self\" title=\"\">Microdados do Censo Escolar da Educação Básica 2002</a>,\n",
       " <a class=\"external-link\" data-tippreview-enabled=\"false\" data-tippreview-image=\"\" data-tippreview-title=\"\" href=\"https://download.inep.gov.br/microdados/microdados_educacao_basica_2001.zip\" target=\"_self\" title=\"\">Microdados do Censo Escolar da Educação Básica 2001</a>,\n",
       " <a class=\"external-link\" data-tippreview-enabled=\"false\" data-tippreview-image=\"\" data-tippreview-title=\"\" href=\"https://download.inep.gov.br/microdados/microdados_educacao_basica_2000.zip\" target=\"_self\" title=\"\">Microdados do Censo Escolar da Educação Básica 2000</a>,\n",
       " <a class=\"external-link\" data-tippreview-enabled=\"false\" data-tippreview-image=\"\" data-tippreview-title=\"\" href=\"https://download.inep.gov.br/microdados/microdados_educacao_basica_1999.zip\" target=\"_self\" title=\"\">Microdados do Censo Escolar da Educação Básica 1999</a>,\n",
       " <a class=\"external-link\" data-tippreview-enabled=\"false\" data-tippreview-image=\"\" data-tippreview-title=\"\" href=\"https://download.inep.gov.br/microdados/microdados_educacao_basica_1998.zip\" target=\"_self\" title=\"\">Microdados do Censo Escolar da Educação Básica 1998</a>,\n",
       " <a class=\"external-link\" data-tippreview-enabled=\"false\" data-tippreview-image=\"\" data-tippreview-title=\"\" href=\"https://download.inep.gov.br/microdados/microdados_educacao_basica_1997.zip\" target=\"_self\" title=\"\">Microdados do Censo Escolar da Educação Básica 1997</a>,\n",
       " <a class=\"external-link\" data-tippreview-enabled=\"false\" data-tippreview-image=\"\" data-tippreview-title=\"\" href=\"https://download.inep.gov.br/microdados/microdados_educacao_basica_1996.zip\" target=\"_self\" title=\"\">Microdados do Censo Escolar da Educação Básica 1996</a>,\n",
       " <a class=\"external-link\" data-tippreview-enabled=\"false\" data-tippreview-image=\"\" data-tippreview-title=\"\" href=\"https://download.inep.gov.br/microdados/microdados_educacao_basica_1995.zip\" target=\"_self\" title=\"\">Microdados do Censo Escolar da Educação Básica 1995</a>]"
      ]
     },
     "execution_count": 20,
     "metadata": {},
     "output_type": "execute_result"
    }
   ],
   "source": [
    "tags"
   ]
  },
  {
   "cell_type": "code",
   "execution_count": 22,
   "id": "b08b5a7f",
   "metadata": {},
   "outputs": [
    {
     "data": {
      "text/plain": [
       "<a class=\"external-link\" data-tippreview-enabled=\"false\" data-tippreview-image=\"\" data-tippreview-title=\"\" href=\"https://download.inep.gov.br/dados_abertos/microdados_censo_escolar_2020.zip\" target=\"_self\" title=\"\">Microdados do Censo Escolar da Educação Básica 2020 (Atualizado em 08/03/2021)<br/></a>"
      ]
     },
     "execution_count": 22,
     "metadata": {},
     "output_type": "execute_result"
    }
   ],
   "source": [
    "tags[0]"
   ]
  },
  {
   "cell_type": "code",
   "execution_count": 23,
   "id": "7a1a0add",
   "metadata": {},
   "outputs": [],
   "source": [
    "tag = tags[0]"
   ]
  },
  {
   "cell_type": "code",
   "execution_count": 24,
   "id": "4660594f",
   "metadata": {},
   "outputs": [
    {
     "data": {
      "text/plain": [
       "'https://download.inep.gov.br/dados_abertos/microdados_censo_escolar_2020.zip'"
      ]
     },
     "execution_count": 24,
     "metadata": {},
     "output_type": "execute_result"
    }
   ],
   "source": [
    "tag[\"href\"]"
   ]
  },
  {
   "cell_type": "code",
   "execution_count": 29,
   "id": "1be71007",
   "metadata": {},
   "outputs": [],
   "source": [
    "links = {tag[\"href\"].split(\"_\")[-1]: tag[\"href\"] for tag in soup.find_all(\"a\", {\"class\": \"external-link\"})}"
   ]
  },
  {
   "cell_type": "code",
   "execution_count": 30,
   "id": "3e06d1f2",
   "metadata": {},
   "outputs": [
    {
     "data": {
      "text/plain": [
       "{'2020.zip': 'https://download.inep.gov.br/dados_abertos/microdados_censo_escolar_2020.zip',\n",
       " '2019.zip': 'https://download.inep.gov.br/microdados/microdados_educacao_basica_2019.zip',\n",
       " '2018.zip': 'https://download.inep.gov.br/microdados/microdados_educacao_basica_2018.zip',\n",
       " '2017.zip': 'https://download.inep.gov.br/microdados/micro_censo_escolar_2017.zip',\n",
       " '2016.zip': 'https://download.inep.gov.br/microdados/micro_censo_escolar_2016.zip',\n",
       " '2015.zip': 'https://download.inep.gov.br/microdados/micro_censo_escolar_2015.zip',\n",
       " '2014.zip': 'https://download.inep.gov.br/microdados/micro_censo_escolar_2014.zip',\n",
       " '2013.zip': 'https://download.inep.gov.br/microdados/micro_censo_escolar_2013.zip',\n",
       " '2012.zip': 'https://download.inep.gov.br/microdados/micro_censo_escolar_2012.zip',\n",
       " '2011.zip': 'https://download.inep.gov.br/microdados/micro_censo_escolar_2011.zip',\n",
       " '2010.zip': 'https://download.inep.gov.br/microdados/micro_censo_escolar_2010.zip',\n",
       " '2009.zip': 'https://download.inep.gov.br/microdados/micro_censo_escolar_2009.zip',\n",
       " '2008.zip': 'https://download.inep.gov.br/microdados/micro_censo_escolar_2008.zip',\n",
       " '2007.zip': 'https://download.inep.gov.br/microdados/micro_censo_escolar_2007.zip',\n",
       " '2006.zip': 'https://download.inep.gov.br/microdados/microdados_educacao_basica_2006.zip',\n",
       " '2005.zip': 'https://download.inep.gov.br/microdados/microdados_educacao_basica_2005.zip',\n",
       " '2004.zip': 'https://download.inep.gov.br/microdados/microdados_educacao_basica_2004.zip',\n",
       " '2003.zip': 'https://download.inep.gov.br/microdados/microdados_educacao_basica_2003.zip',\n",
       " '2002.zip': 'https://download.inep.gov.br/microdados/microdados_educacao_basica_2002.zip',\n",
       " '2001.zip': 'https://download.inep.gov.br/microdados/microdados_educacao_basica_2001.zip',\n",
       " '2000.zip': 'https://download.inep.gov.br/microdados/microdados_educacao_basica_2000.zip',\n",
       " '1999.zip': 'https://download.inep.gov.br/microdados/microdados_educacao_basica_1999.zip',\n",
       " '1998.zip': 'https://download.inep.gov.br/microdados/microdados_educacao_basica_1998.zip',\n",
       " '1997.zip': 'https://download.inep.gov.br/microdados/microdados_educacao_basica_1997.zip',\n",
       " '1996.zip': 'https://download.inep.gov.br/microdados/microdados_educacao_basica_1996.zip',\n",
       " '1995.zip': 'https://download.inep.gov.br/microdados/microdados_educacao_basica_1995.zip'}"
      ]
     },
     "execution_count": 30,
     "metadata": {},
     "output_type": "execute_result"
    }
   ],
   "source": [
    "links"
   ]
  },
  {
   "cell_type": "code",
   "execution_count": 31,
   "id": "1d73fc1b",
   "metadata": {},
   "outputs": [],
   "source": []
  },
  {
   "cell_type": "code",
   "execution_count": 32,
   "id": "c94da290",
   "metadata": {},
   "outputs": [],
   "source": [
    "caminho_saida = Path(\"../dados/censo_escolar\")\n",
    "caminho_saida.mkdir(parents=True, exist_ok=True)"
   ]
  },
  {
   "cell_type": "code",
   "execution_count": 37,
   "id": "a6858bc6",
   "metadata": {},
   "outputs": [],
   "source": [
    "r = requests.get(links[\"1995.zip\"], stream=True)\n",
    "with open(caminho_saida / \"1995.zip\", \"wb\") as arq:\n",
    "    arq.write(r.content)"
   ]
  },
  {
   "cell_type": "code",
   "execution_count": null,
   "id": "9418ab58",
   "metadata": {},
   "outputs": [],
   "source": []
  }
 ],
 "metadata": {
  "kernelspec": {
   "display_name": "Python 3",
   "language": "python",
   "name": "python3"
  },
  "language_info": {
   "codemirror_mode": {
    "name": "ipython",
    "version": 3
   },
   "file_extension": ".py",
   "mimetype": "text/x-python",
   "name": "python",
   "nbconvert_exporter": "python",
   "pygments_lexer": "ipython3",
   "version": "3.8.8"
  }
 },
 "nbformat": 4,
 "nbformat_minor": 5
}
